{
 "cells": [
  {
   "cell_type": "code",
   "execution_count": 1,
   "id": "bd0bc70c-5690-49f3-8203-f3f51d468086",
   "metadata": {},
   "outputs": [],
   "source": [
    "import numpy as np\n",
    "from QuantumCircuit import QuantumCircuit"
   ]
  },
  {
   "cell_type": "code",
   "execution_count": 2,
   "id": "33c572f4-47b6-405b-87f3-2b3617694b38",
   "metadata": {},
   "outputs": [
    {
     "name": "stdout",
     "output_type": "stream",
     "text": [
      "Initiation of allocation\n",
      "Number of qubits =  2\n",
      "Number of possible states =  4\n"
     ]
    }
   ],
   "source": [
    "qc = QuantumCircuit(2)\n"
   ]
  },
  {
   "cell_type": "code",
   "execution_count": 3,
   "id": "e73466ed-6eb3-4b56-8f07-7a81fb710556",
   "metadata": {},
   "outputs": [
    {
     "name": "stdout",
     "output_type": "stream",
     "text": [
      "Read Quantum States:  [1]\n",
      "[[0.+0.j]\n",
      " [0.+0.j]\n",
      " [0.+0.j]\n",
      " [0.+0.j]]\n"
     ]
    },
    {
     "name": "stderr",
     "output_type": "stream",
     "text": [
      "C:\\Users\\daniel\\anaconda3\\lib\\site-packages\\numpy\\core\\_asarray.py:171: VisibleDeprecationWarning: Creating an ndarray from ragged nested sequences (which is a list-or-tuple of lists-or-tuples-or ndarrays with different lengths or shapes) is deprecated. If you meant to do this, you must specify 'dtype=object' when creating the ndarray.\n",
      "  return array(a, dtype, copy=False, order=order, subok=True)\n"
     ]
    },
    {
     "data": {
      "image/png": "[encoded data removed]",
      "text/plain": [
       "<Figure size 432x288 with 4 Axes>"
      ]
     },
     "metadata": {
      "needs_background": "light"
     },
     "output_type": "display_data"
    }
   ],
   "source": [
    "qc.init(0, 1)\n",
    "qc.init(1, 0)\n",
    "#qc.had(0)\n",
    "#qc.quarray(0)\n",
    "#qc.quarray(1)\n",
    "\n",
    "qc.cx(1, 0)\n",
    "qc.viz2()\n",
    "\n"
   ]
  },
  {
   "cell_type": "code",
   "execution_count": null,
   "id": "8d8fb4fb-2558-4923-9ec5-6514d18d8c3f",
   "metadata": {},
   "outputs": [],
   "source": [
    "#qc.init(0, 1)\n",
    "qc.quarray(0)\n",
    "qc.quarray(1)\n",
    "#qc.cx(1, 0)\n",
    "#qc.viz2()"
   ]
  },
  {
   "cell_type": "code",
   "execution_count": 4,
   "id": "af8ae0a2-6a79-43ee-a804-bb22474edab6",
   "metadata": {},
   "outputs": [
    {
     "name": "stdout",
     "output_type": "stream",
     "text": [
      "[0.+0.j 0.+0.j]\n",
      "[1.+0.j 1.+0.j]\n"
     ]
    }
   ],
   "source": [
    "#qc.had(0)\n",
    "qc.quarray(0)\n",
    "qc.quarray(1)"
   ]
  },
  {
   "cell_type": "code",
   "execution_count": null,
   "id": "54818638-4b91-49fa-bfb2-818211c8931d",
   "metadata": {},
   "outputs": [],
   "source": [
    "qc.cx(1, 0)\n",
    "qc.quarray(0)\n",
    "qc.quarray(1)"
   ]
  },
  {
   "cell_type": "code",
   "execution_count": null,
   "id": "3093cb57-6f7d-4df6-a98f-bfd10a886fc3",
   "metadata": {},
   "outputs": [],
   "source": [
    "from QuantumSystem import QuantumSystem"
   ]
  },
  {
   "cell_type": "code",
   "execution_count": null,
   "id": "9563f4c4-1abb-47e7-9f95-6da6949329a7",
   "metadata": {},
   "outputs": [],
   "source": [
    "qs = QuantumSystem(2)"
   ]
  },
  {
   "cell_type": "code",
   "execution_count": null,
   "id": "b2f03d54-07f1-46db-b5dc-b9bc8d32b8fc",
   "metadata": {},
   "outputs": [],
   "source": [
    "qs.writebin('1')"
   ]
  },
  {
   "cell_type": "code",
   "execution_count": null,
   "id": "61ea5a1b-9bd4-46ab-bb33-6e3e6eba7383",
   "metadata": {},
   "outputs": [],
   "source": [
    "qs.had()"
   ]
  },
  {
   "cell_type": "code",
   "execution_count": null,
   "id": "31ed7e29-723f-48fe-a6c3-3415afa5fd6a",
   "metadata": {},
   "outputs": [],
   "source": [
    "qc.toffoli(2, 1, 0)"
   ]
  },
  {
   "cell_type": "code",
   "execution_count": null,
   "id": "9460e9c2-6cbe-4075-9460-2525bfb04253",
   "metadata": {},
   "outputs": [],
   "source": [
    "qc.viz2()"
   ]
  },
  {
   "cell_type": "code",
   "execution_count": null,
   "id": "d27e9a5c-8f75-477c-82d8-a75f6eb21b25",
   "metadata": {},
   "outputs": [],
   "source": [
    "qc.readmultiple()"
   ]
  },
  {
   "cell_type": "code",
   "execution_count": null,
   "id": "71fc950c-9929-4465-986b-f846a908bcee",
   "metadata": {},
   "outputs": [],
   "source": [
    "qc.quarray(0)\n",
    "qc.quarray(1)"
   ]
  },
  {
   "cell_type": "code",
   "execution_count": null,
   "id": "e62d2ccf-748d-47f8-820b-fcf170311d37",
   "metadata": {},
   "outputs": [],
   "source": [
    "qc.swap(1, 0)\n",
    "qc.quarray(0)\n",
    "qc.quarray(1)"
   ]
  },
  {
   "cell_type": "code",
   "execution_count": null,
   "id": "70ebfdd3-103a-43e3-8c37-f60ef49b423a",
   "metadata": {},
   "outputs": [],
   "source": [
    "import math\n",
    "#cNotmatrix = np.array([(1, 0, 0, 0), (0, 1, 0, 0), (0, 0, 0, 1), (0, 0, 1, 0)], dtype=np.float)\n",
    "cNotmatrix = np.array([(1, 0, 0, 0), (0, 0, 0, 1), (0, 0, 1, 0), (1, 0, 0, 0)], dtype=np.float)\n",
    "qubit1 = np.array((0, 1))\n",
    "qubit2 = np.array((1, 0))\n",
    "a = np.stack((qubit1, qubit2)).reshape(4, 1)"
   ]
  },
  {
   "cell_type": "code",
   "execution_count": null,
   "id": "9ebcb830-b40e-472d-bf0d-922cea35167a",
   "metadata": {},
   "outputs": [],
   "source": []
  },
  {
   "cell_type": "code",
   "execution_count": null,
   "id": "4926f03d-2096-4cca-a9b6-69620e287032",
   "metadata": {},
   "outputs": [],
   "source": []
  },
  {
   "cell_type": "code",
   "execution_count": null,
   "id": "f88f5e48-3677-41cb-8386-9067b01f7db4",
   "metadata": {},
   "outputs": [],
   "source": []
  },
  {
   "cell_type": "code",
   "execution_count": null,
   "id": "b27262c7-318d-4d9d-b51f-7a992a564617",
   "metadata": {},
   "outputs": [],
   "source": []
  },
  {
   "cell_type": "code",
   "execution_count": null,
   "id": "baf8b17c-87c4-4112-bb7a-5c61901cdc65",
   "metadata": {},
   "outputs": [],
   "source": []
  },
  {
   "cell_type": "code",
   "execution_count": null,
   "id": "51a77aa9-14eb-480c-a5df-9f50dd6edb98",
   "metadata": {},
   "outputs": [],
   "source": []
  },
  {
   "cell_type": "code",
   "execution_count": null,
   "id": "8128f2d5-8bf9-4418-8b7f-c2e149723537",
   "metadata": {},
   "outputs": [],
   "source": []
  },
  {
   "cell_type": "code",
   "execution_count": null,
   "id": "e841f8b6-a1e8-4fa7-9735-bb28f346c64b",
   "metadata": {},
   "outputs": [],
   "source": []
  },
  {
   "cell_type": "code",
   "execution_count": null,
   "id": "6971809a-b550-4c43-bc89-29aa66bd887d",
   "metadata": {},
   "outputs": [],
   "source": []
  }
 ],
 "metadata": {
  "kernelspec": {
   "display_name": "Python 3",
   "language": "python",
   "name": "python3"
  },
  "language_info": {
   "codemirror_mode": {
    "name": "ipython",
    "version": 3
   },
   "file_extension": ".py",
   "mimetype": "text/x-python",
   "name": "python",
   "nbconvert_exporter": "python",
   "pygments_lexer": "ipython3",
   "version": "3.8.8"
  }
 },
 "nbformat": 4,
 "nbformat_minor": 5
}
